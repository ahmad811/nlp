{
  "nbformat": 4,
  "nbformat_minor": 0,
  "metadata": {
    "colab": {
      "name": "commands_nlp.ipynb",
      "provenance": [],
      "collapsed_sections": [],
      "mount_file_id": "1Rja0HHVI8XtN47jfy3fQuF1KuA2e0iUk",
      "authorship_tag": "ABX9TyNVui/NA5HsU1Q2O+buy3x3",
      "include_colab_link": true
    },
    "kernelspec": {
      "name": "python3",
      "display_name": "Python 3"
    },
    "language_info": {
      "name": "python"
    },
    "accelerator": "GPU"
  },
  "cells": [
    {
      "cell_type": "markdown",
      "metadata": {
        "id": "view-in-github",
        "colab_type": "text"
      },
      "source": [
        "<a href=\"https://colab.research.google.com/github/ahmad811/nlp/blob/main/commands_nlp.ipynb\" target=\"_parent\"><img src=\"https://colab.research.google.com/assets/colab-badge.svg\" alt=\"Open In Colab\"/></a>"
      ]
    },
    {
      "cell_type": "code",
      "metadata": {
        "id": "wRJ5DxlMqGzx"
      },
      "source": [
        "import pickle\n",
        "\n",
        "import numpy as np\n",
        "import matplotlib.pyplot as plt\n",
        "from tensorflow.keras.layers import Dense, Embedding, LSTM, Dropout\n",
        "from tensorflow.keras.models import Sequential\n",
        "from tensorflow.keras.utils import to_categorical\n"
      ],
      "execution_count": 2,
      "outputs": []
    },
    {
      "cell_type": "code",
      "metadata": {
        "colab": {
          "base_uri": "https://localhost:8080/"
        },
        "id": "lwR7OG_WBPaN",
        "outputId": "3a5fbc57-8471-4ee7-cb74-4c1b4d445e7c"
      },
      "source": [
        "from google.colab import drive\n",
        "drive.mount('/content/gdrive')"
      ],
      "execution_count": 3,
      "outputs": [
        {
          "output_type": "stream",
          "name": "stdout",
          "text": [
            "Mounted at /content/gdrive\n"
          ]
        }
      ]
    },
    {
      "cell_type": "code",
      "metadata": {
        "colab": {
          "base_uri": "https://localhost:8080/"
        },
        "id": "p9JkPsfzqw76",
        "outputId": "715504b5-96ff-41b3-ea18-a853676fd9d5"
      },
      "source": [
        "with open('/content/gdrive/MyDrive/SIEMESN/Innovation/nlp/cmd2id.pickle', 'rb') as f:\n",
        "    cmd2idMap = pickle.load(f)\n",
        "with open('/content/gdrive/MyDrive/SIEMESN/Innovation/nlp/id2cmd.pickle', 'rb') as f:\n",
        "    id2cmdMap = pickle.load(f)\n",
        "\n",
        "with open('/content/gdrive/MyDrive/SIEMESN/Innovation/nlp/book_np.pickle', 'rb') as f:\n",
        "    corpus = pickle.load(f)\n",
        "\n",
        "unique_cmds = cmd2idMap.keys()\n",
        "\n",
        "corpus_len = len(corpus)\n",
        "vocab_len = len(unique_cmds)\n",
        "\n",
        "print(corpus_len)\n",
        "print(vocab_len)\n"
      ],
      "execution_count": 4,
      "outputs": [
        {
          "output_type": "stream",
          "name": "stdout",
          "text": [
            "211292812\n",
            "809\n"
          ]
        }
      ]
    },
    {
      "cell_type": "code",
      "metadata": {
        "id": "NPPDi-J8yDgi"
      },
      "source": [
        "seq_len = 10\n",
        "\n",
        "X=[]\n",
        "y=[]\n",
        "\n",
        "first_chunk=1000_000\n",
        "\n",
        "for i in range(seq_len+1, first_chunk):#corpus_len):\n",
        "    seq = corpus[i-seq_len-1:i]\n",
        "    X.append(seq[:-1]) #all but last one\n",
        "    y.append(seq[-1]) #last one\n"
      ],
      "execution_count": 5,
      "outputs": []
    },
    {
      "cell_type": "code",
      "metadata": {
        "colab": {
          "base_uri": "https://localhost:8080/"
        },
        "id": "rWEXlxl3yF5n",
        "outputId": "78dc1d3d-8769-4c97-90fb-5195580ef13e"
      },
      "source": [
        "#first_chunk=1000_000\n",
        "#X_1m = np.array(X[:first_chunk], dtype='int16')\n",
        "X = np.array(X, dtype='int16')\n",
        "#y_1m = y[:first_chunk]\n",
        "\n",
        "y = to_categorical(y, num_classes=vocab_len, dtype=bool)\n",
        "\n",
        "print(X.shape)\n",
        "print(y.shape)"
      ],
      "execution_count": 6,
      "outputs": [
        {
          "output_type": "stream",
          "name": "stdout",
          "text": [
            "(999989, 10)\n",
            "(999989, 809)\n"
          ]
        }
      ]
    },
    {
      "cell_type": "code",
      "metadata": {
        "colab": {
          "base_uri": "https://localhost:8080/"
        },
        "id": "1Z6cSg10yHu4",
        "outputId": "12f484d5-9f4e-4cd1-c9e5-0d4ac8d16dc1"
      },
      "source": [
        "#Build the model\n",
        "model = Sequential()\n",
        "model.add(Embedding(input_dim=vocab_len, output_dim=512, input_length=seq_len))\n",
        "model.add(LSTM(2048, return_sequences=True))\n",
        "model.add(Dropout(0.2))\n",
        "model.add(LSTM(1024))\n",
        "model.add(Dropout(0.2))\n",
        "model.add(Dense(1024, activation='relu'))\n",
        "model.add(Dense(vocab_len, activation='softmax'))\n",
        "\n",
        "model.summary()\n"
      ],
      "execution_count": 7,
      "outputs": [
        {
          "output_type": "stream",
          "name": "stdout",
          "text": [
            "Model: \"sequential\"\n",
            "_________________________________________________________________\n",
            "Layer (type)                 Output Shape              Param #   \n",
            "=================================================================\n",
            "embedding (Embedding)        (None, 10, 512)           414208    \n",
            "_________________________________________________________________\n",
            "lstm (LSTM)                  (None, 10, 2048)          20979712  \n",
            "_________________________________________________________________\n",
            "dropout (Dropout)            (None, 10, 2048)          0         \n",
            "_________________________________________________________________\n",
            "lstm_1 (LSTM)                (None, 1024)              12587008  \n",
            "_________________________________________________________________\n",
            "dropout_1 (Dropout)          (None, 1024)              0         \n",
            "_________________________________________________________________\n",
            "dense (Dense)                (None, 1024)              1049600   \n",
            "_________________________________________________________________\n",
            "dense_1 (Dense)              (None, 809)               829225    \n",
            "=================================================================\n",
            "Total params: 35,859,753\n",
            "Trainable params: 35,859,753\n",
            "Non-trainable params: 0\n",
            "_________________________________________________________________\n"
          ]
        }
      ]
    },
    {
      "cell_type": "code",
      "metadata": {
        "id": "V1dPARiuyMcy"
      },
      "source": [
        "#Callbacks\n",
        "from tensorflow.keras.callbacks import ModelCheckpoint\n",
        "from tensorflow.keras.callbacks import ReduceLROnPlateau\n",
        "from tensorflow.keras.callbacks import TensorBoard\n",
        "\n",
        "checkpoint = ModelCheckpoint(\"nextcommand.h5\", monitor='loss', verbose=1, save_best_only=True, mode='auto')\n",
        "\n"
      ],
      "execution_count": 8,
      "outputs": []
    },
    {
      "cell_type": "code",
      "metadata": {
        "colab": {
          "base_uri": "https://localhost:8080/"
        },
        "id": "QrCMG079yOxY",
        "outputId": "1f7973d6-106d-4818-a29c-b8dc61c64d3e"
      },
      "source": [
        "\n",
        "#Compile and Fit\n",
        "model.compile (loss='categorical_crossentropy', optimizer='adam', metrics=['accuracy'] )\n",
        "model.fit(X, y, batch_size=512, epochs=100, callbacks=[checkpoint])\n"
      ],
      "execution_count": null,
      "outputs": [
        {
          "output_type": "stream",
          "name": "stdout",
          "text": [
            "Epoch 1/100\n",
            "1954/1954 [==============================] - 1064s 539ms/step - loss: 2.3062 - accuracy: 0.4646\n",
            "\n",
            "Epoch 00001: loss improved from inf to 2.30619, saving model to nextcommand.h5\n",
            "Epoch 2/100\n",
            "1954/1954 [==============================] - 1052s 538ms/step - loss: 1.9962 - accuracy: 0.5098\n",
            "\n",
            "Epoch 00002: loss improved from 2.30619 to 1.99618, saving model to nextcommand.h5\n",
            "Epoch 3/100\n",
            "1954/1954 [==============================] - 1059s 542ms/step - loss: 1.9060 - accuracy: 0.5225\n",
            "\n",
            "Epoch 00003: loss improved from 1.99618 to 1.90595, saving model to nextcommand.h5\n",
            "Epoch 4/100\n",
            "1954/1954 [==============================] - 1059s 542ms/step - loss: 1.8250 - accuracy: 0.5346\n",
            "\n",
            "Epoch 00004: loss improved from 1.90595 to 1.82501, saving model to nextcommand.h5\n",
            "Epoch 5/100\n",
            "1954/1954 [==============================] - 1057s 541ms/step - loss: 1.7300 - accuracy: 0.5498\n",
            "\n",
            "Epoch 00005: loss improved from 1.82501 to 1.72998, saving model to nextcommand.h5\n",
            "Epoch 6/100\n",
            "1954/1954 [==============================] - 1062s 543ms/step - loss: 1.6239 - accuracy: 0.5688\n",
            "\n",
            "Epoch 00006: loss improved from 1.72998 to 1.62395, saving model to nextcommand.h5\n",
            "Epoch 7/100\n",
            "1324/1954 [===================>..........] - ETA: 5:41 - loss: 1.4981 - accuracy: 0.5928"
          ]
        }
      ]
    },
    {
      "cell_type": "code",
      "metadata": {
        "id": "ox2iW6yMNk8L"
      },
      "source": [
        "model.save('/content/gdrive/MyDrive/SIEMESN/Innovation/nlp/model')\n",
        "model.save_weights('/content/gdrive/MyDrive/SIEMESN/Innovation/nlp/model.weights')"
      ],
      "execution_count": null,
      "outputs": []
    },
    {
      "cell_type": "markdown",
      "metadata": {
        "id": "BcpqrkGgqK9v"
      },
      "source": [
        "# New Section"
      ]
    }
  ]
}