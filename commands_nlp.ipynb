{
  "nbformat": 4,
  "nbformat_minor": 0,
  "metadata": {
    "colab": {
      "name": "commands_nlp.ipynb",
      "provenance": [],
      "collapsed_sections": [],
      "mount_file_id": "1Rja0HHVI8XtN47jfy3fQuF1KuA2e0iUk",
      "authorship_tag": "ABX9TyOHrYs14dA8VjKhxAOkm0UK",
      "include_colab_link": true
    },
    "kernelspec": {
      "name": "python3",
      "display_name": "Python 3"
    },
    "language_info": {
      "name": "python"
    },
    "accelerator": "GPU"
  },
  "cells": [
    {
      "cell_type": "markdown",
      "metadata": {
        "id": "view-in-github",
        "colab_type": "text"
      },
      "source": [
        "<a href=\"https://colab.research.google.com/github/ahmad811/nlp/blob/main/commands_nlp.ipynb\" target=\"_parent\"><img src=\"https://colab.research.google.com/assets/colab-badge.svg\" alt=\"Open In Colab\"/></a>"
      ]
    },
    {
      "cell_type": "code",
      "metadata": {
        "id": "wRJ5DxlMqGzx"
      },
      "source": [
        "import pickle\n",
        "\n",
        "import numpy as np\n",
        "import matplotlib.pyplot as plt\n",
        "from tensorflow.keras.layers import Dense, Embedding, LSTM, Dropout\n",
        "from tensorflow.keras.models import Sequential\n",
        "from tensorflow.keras.utils import to_categorical\n",
        "from sklearn.preprocessing import StandardScaler\n"
      ],
      "execution_count": 1,
      "outputs": []
    },
    {
      "cell_type": "code",
      "metadata": {
        "colab": {
          "base_uri": "https://localhost:8080/"
        },
        "id": "lwR7OG_WBPaN",
        "outputId": "a5534b5d-925b-40a2-ab11-0440e5f7c100"
      },
      "source": [
        "from google.colab import drive\n",
        "drive.mount('/content/gdrive')"
      ],
      "execution_count": 2,
      "outputs": [
        {
          "output_type": "stream",
          "name": "stdout",
          "text": [
            "Mounted at /content/gdrive\n"
          ]
        }
      ]
    },
    {
      "cell_type": "code",
      "metadata": {
        "colab": {
          "base_uri": "https://localhost:8080/"
        },
        "id": "p9JkPsfzqw76",
        "outputId": "38b9ed61-f44d-4fee-a5d9-512c97cc826a"
      },
      "source": [
        "with open('/content/gdrive/MyDrive/SIEMESN/Innovation/nlp/cmd2id.pickle', 'rb') as f:\n",
        "    cmd2idMap = pickle.load(f)\n",
        "with open('/content/gdrive/MyDrive/SIEMESN/Innovation/nlp/id2cmd.pickle', 'rb') as f:\n",
        "    id2cmdMap = pickle.load(f)\n",
        "\n",
        "with open('/content/gdrive/MyDrive/SIEMESN/Innovation/nlp/book_np.pickle', 'rb') as f:\n",
        "    corpus = pickle.load(f)\n",
        "\n",
        "unique_cmds = cmd2idMap.keys()\n",
        "\n",
        "corpus_len = len(corpus)\n",
        "vocab_len = len(unique_cmds)\n",
        "\n",
        "print(corpus_len)\n",
        "print(vocab_len)\n"
      ],
      "execution_count": 3,
      "outputs": [
        {
          "output_type": "stream",
          "name": "stdout",
          "text": [
            "211292812\n",
            "809\n"
          ]
        }
      ]
    },
    {
      "cell_type": "code",
      "metadata": {
        "id": "NPPDi-J8yDgi"
      },
      "source": [
        "seq_len = 20\n",
        "\n",
        "X=[]\n",
        "y=[]\n",
        "\n",
        "first_chunk=500_000\n",
        "\n",
        "for i in range(seq_len+1, first_chunk):#corpus_len):\n",
        "    seq = corpus[i-seq_len-1:i]\n",
        "    X.append(seq[:-1]) #all but last one\n",
        "    y.append(seq[-1]) #last one\n"
      ],
      "execution_count": 4,
      "outputs": []
    },
    {
      "cell_type": "code",
      "metadata": {
        "colab": {
          "base_uri": "https://localhost:8080/"
        },
        "id": "rWEXlxl3yF5n",
        "outputId": "38c98f26-35d4-4b76-882d-2bf0f70ceb3e"
      },
      "source": [
        "y = to_categorical(y, num_classes=vocab_len, dtype=bool)\n",
        "\n",
        "print(y.shape)"
      ],
      "execution_count": 5,
      "outputs": [
        {
          "output_type": "stream",
          "name": "stdout",
          "text": [
            "(499979, 809)\n"
          ]
        }
      ]
    },
    {
      "cell_type": "code",
      "metadata": {
        "colab": {
          "base_uri": "https://localhost:8080/"
        },
        "id": "bidR5GXFg1Cr",
        "outputId": "0e2c580e-3856-4ea9-9273-99621b2b31e0"
      },
      "source": [
        "X = np.array(X, dtype='int16')\n",
        "#X = to_categorical(X, num_classes=vocab_len, dtype=bool)\n",
        "\n",
        "print(X.shape)\n",
        "x_dim = (10,vocab_len)\n"
      ],
      "execution_count": 6,
      "outputs": [
        {
          "output_type": "stream",
          "name": "stdout",
          "text": [
            "(499979, 20)\n"
          ]
        }
      ]
    },
    {
      "cell_type": "code",
      "metadata": {
        "colab": {
          "base_uri": "https://localhost:8080/"
        },
        "id": "o5T9bOZple4C",
        "outputId": "642d8d20-ed5e-42cd-894d-0d6bc0c396ca"
      },
      "source": [
        "#a=X.reshape(X.shape[0],10,-1)\n",
        "#print(a.shape)\n",
        "#print(a[0])"
      ],
      "execution_count": 53,
      "outputs": [
        {
          "output_type": "stream",
          "name": "stdout",
          "text": [
            "(249989, 10, 1)\n",
            "[[743]\n",
            " [433]\n",
            " [ 10]\n",
            " [433]\n",
            " [ 10]\n",
            " [755]\n",
            " [755]\n",
            " [433]\n",
            " [ 10]\n",
            " [448]]\n"
          ]
        }
      ]
    },
    {
      "cell_type": "code",
      "metadata": {
        "colab": {
          "base_uri": "https://localhost:8080/"
        },
        "id": "1Z6cSg10yHu4",
        "outputId": "f024ee2d-1940-424c-b16a-79f0abcbdbf8"
      },
      "source": [
        "#Build the model\n",
        "model = Sequential()\n",
        "\n",
        "model.add(Embedding(input_dim=vocab_len, output_dim=7, input_length=seq_len))\n",
        "\n",
        "model.add(LSTM(2048,  return_sequences=True))\n",
        "model.add(LSTM(1024, return_sequences=True))\n",
        "#model.add(LSTM(1024, return_sequences=True))\n",
        "model.add(LSTM(1024))\n",
        "\n",
        "model.add(Dense(1024, activation='relu'))\n",
        "model.add(Dense(vocab_len, activation='softmax'))\n",
        "\n",
        "model.summary()\n"
      ],
      "execution_count": 7,
      "outputs": [
        {
          "output_type": "stream",
          "name": "stdout",
          "text": [
            "Model: \"sequential\"\n",
            "_________________________________________________________________\n",
            "Layer (type)                 Output Shape              Param #   \n",
            "=================================================================\n",
            "embedding (Embedding)        (None, 20, 7)             5663      \n",
            "_________________________________________________________________\n",
            "lstm (LSTM)                  (None, 20, 2048)          16842752  \n",
            "_________________________________________________________________\n",
            "lstm_1 (LSTM)                (None, 20, 1024)          12587008  \n",
            "_________________________________________________________________\n",
            "lstm_2 (LSTM)                (None, 1024)              8392704   \n",
            "_________________________________________________________________\n",
            "dense (Dense)                (None, 1024)              1049600   \n",
            "_________________________________________________________________\n",
            "dense_1 (Dense)              (None, 809)               829225    \n",
            "=================================================================\n",
            "Total params: 39,706,952\n",
            "Trainable params: 39,706,952\n",
            "Non-trainable params: 0\n",
            "_________________________________________________________________\n"
          ]
        }
      ]
    },
    {
      "cell_type": "code",
      "metadata": {
        "id": "V1dPARiuyMcy"
      },
      "source": [
        "#Callbacks\n",
        "from tensorflow.keras.callbacks import ModelCheckpoint\n",
        "from tensorflow.keras.callbacks import ReduceLROnPlateau\n",
        "from tensorflow.keras.callbacks import TensorBoard\n",
        "\n",
        "checkpoint = ModelCheckpoint(\"nextcommand.h5\", monitor='loss', verbose=1, save_best_only=True, mode='auto')\n",
        "\n"
      ],
      "execution_count": 8,
      "outputs": []
    },
    {
      "cell_type": "code",
      "metadata": {
        "colab": {
          "base_uri": "https://localhost:8080/"
        },
        "id": "QrCMG079yOxY",
        "outputId": "8669f799-d14c-44a5-b0b3-0b70c5724dc9"
      },
      "source": [
        "\n",
        "#Compile and Fit\n",
        "model.compile (loss='categorical_crossentropy', optimizer='adam', metrics=['accuracy'] )\n",
        "history = model.fit(X, y, batch_size=512, epochs=100, callbacks=[checkpoint], shuffle=False)\n"
      ],
      "execution_count": null,
      "outputs": [
        {
          "output_type": "stream",
          "name": "stdout",
          "text": [
            "Epoch 1/100\n",
            "463/977 [=============>................] - ETA: 9:56 - loss: 3.5029 - accuracy: 0.2328"
          ]
        }
      ]
    },
    {
      "cell_type": "code",
      "metadata": {
        "id": "NQAcw2wJcAxx"
      },
      "source": [
        "from matplotlib import pyplot\n",
        "pyplot.plot(history.history['loss'])\n",
        "pyplot.plot(history.history['val_loss'])\n",
        "pyplot.title('model train vs validation loss')\n",
        "pyplot.ylabel('loss')\n",
        "pyplot.xlabel('epoch')\n",
        "pyplot.legend(['train', 'validation'], loc='upper right')\n",
        "pyplot.show()"
      ],
      "execution_count": null,
      "outputs": []
    },
    {
      "cell_type": "code",
      "metadata": {
        "id": "ox2iW6yMNk8L"
      },
      "source": [
        "model.save('/content/gdrive/MyDrive/SIEMESN/Innovation/nlp/model')\n",
        "model.save_weights('/content/gdrive/MyDrive/SIEMESN/Innovation/nlp/model.weights')"
      ],
      "execution_count": null,
      "outputs": []
    },
    {
      "cell_type": "markdown",
      "metadata": {
        "id": "BcpqrkGgqK9v"
      },
      "source": [
        "# New Section"
      ]
    }
  ]
}